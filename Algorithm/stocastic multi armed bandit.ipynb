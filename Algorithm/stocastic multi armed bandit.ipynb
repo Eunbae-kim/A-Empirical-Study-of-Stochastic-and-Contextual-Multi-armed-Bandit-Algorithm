{
 "cells": [
  {
   "cell_type": "markdown",
   "id": "e6180934",
   "metadata": {},
   "source": [
    "# Stochastic Multi-armed bandit algorithms"
   ]
  },
  {
   "cell_type": "code",
   "execution_count": null,
   "id": "096c659d",
   "metadata": {},
   "outputs": [],
   "source": [
    "import tensorflow as tf\n",
    "import numpy as np\n",
    "import pandas as pd\n",
    "import matplotlib.pyplot as plt\n",
    "import seaborn as sns\n",
    "import random\n",
    "import math\n",
    "\n",
    "random.seed(0)"
   ]
  },
  {
   "cell_type": "code",
   "execution_count": null,
   "id": "6cf14956",
   "metadata": {},
   "outputs": [],
   "source": [
    "def ind_max(temp):\n",
    "    m = max(temp)\n",
    "    list_m = list(filter(lambda x: temp[x] == m, range(len(temp))))\n",
    "    return random.choice(list_m)"
   ]
  },
  {
   "cell_type": "code",
   "execution_count": null,
   "id": "2cf99195",
   "metadata": {},
   "outputs": [],
   "source": [
    "def categorical_draw(probs):\n",
    "    z = random.random()\n",
    "    cum_prob = 0.0\n",
    "    for i in range(len(probs)):\n",
    "        prob = probs[i]\n",
    "        cum_prob += prob\n",
    "        if cum_prob > z:\n",
    "            return i\n",
    "  \n",
    "    return len(probs) - 1"
   ]
  },
  {
   "cell_type": "markdown",
   "id": "074cc882",
   "metadata": {},
   "source": [
    "# Environment"
   ]
  },
  {
   "cell_type": "code",
   "execution_count": null,
   "id": "1df4d28b",
   "metadata": {},
   "outputs": [],
   "source": [
    "class BernoulliArm():\n",
    "    def __init__(self,p):\n",
    "        self.p = p\n",
    "        \n",
    "    def draw(self):\n",
    "        if random.random() > self.p:\n",
    "            return 0.0\n",
    "        else:\n",
    "            return 1.0"
   ]
  },
  {
   "cell_type": "markdown",
   "id": "2ad23a17",
   "metadata": {},
   "source": [
    "# Algorithms\n",
    "\n",
    "## Random"
   ]
  },
  {
   "cell_type": "code",
   "execution_count": null,
   "id": "0ac1dcba",
   "metadata": {},
   "outputs": [],
   "source": [
    "class Random():\n",
    "    def __init__(self,counts,values):\n",
    "        self.counts = counts # list that have the number of pulling each arm\n",
    "        self.values = values # list for expected reward for each arm\n",
    "        return\n",
    "    \n",
    "    def initialize(self,n_arms):\n",
    "        self.counts = [0 for col in range(n_arms)]\n",
    "        self.values = [0.0 for col in range(n_arms)]\n",
    "        return\n",
    "    \n",
    "    def select_arm(self):\n",
    "        return random.randrange(len(self.values))\n",
    "\n",
    "    def update(self, chosen_arm, reward):\n",
    "        self.counts[chosen_arm] = self.counts[chosen_arm] + 1\n",
    "        n = self.counts[chosen_arm]\n",
    "    \n",
    "        value = self.values[chosen_arm]\n",
    "        new_value = ((n-1)/float(n))*value + (1/float(n)) * reward\n",
    "        self.values[chosen_arm] = new_value \n",
    "        return\n"
   ]
  },
  {
   "cell_type": "markdown",
   "id": "2837d80a",
   "metadata": {},
   "source": [
    "## Annealing epsilon greedy"
   ]
  },
  {
   "cell_type": "code",
   "execution_count": null,
   "id": "0c4557ea",
   "metadata": {},
   "outputs": [],
   "source": [
    "class AnnealingEpsilonGreedy():\n",
    "    def __init__(self, counts, values):\n",
    "        self.counts = counts\n",
    "        self.values = values\n",
    "        return\n",
    "    \n",
    "    def initialize(self, n_arms):\n",
    "        self.counts = [0 for col in range(n_arms)]\n",
    "        self.values = [0.0 for col in range(n_arms)]\n",
    "        return\n",
    "    \n",
    "    def select_arm(self):\n",
    "        t = sum(self.counts) + 1 \n",
    "        epsilon = 1 / math.log(t + 0.0000001)\n",
    "        \n",
    "        if random.random() > epsilon:\n",
    "            return ind_max(self.values)\n",
    "        else:\n",
    "            return random.randrange(len(self.values))\n",
    "    \n",
    "    def update(self, chosen_arm, reward):\n",
    "        self.counts[chosen_arm] = self.counts[chosen_arm] + 1\n",
    "        n = self.counts[chosen_arm]\n",
    "\n",
    "        value = self.values[chosen_arm]\n",
    "        new_value = ((n - 1) / float(n)) * value + (1 / float(n)) * reward\n",
    "        self.values[chosen_arm] = new_value\n",
    "        return"
   ]
  },
  {
   "cell_type": "markdown",
   "id": "570d26ab",
   "metadata": {},
   "source": [
    "## Annealing softmax"
   ]
  },
  {
   "cell_type": "code",
   "execution_count": null,
   "id": "96d2cb42",
   "metadata": {},
   "outputs": [],
   "source": [
    "class AnnealingSoftmax:\n",
    "    def __init__(self, counts, values):\n",
    "        self.counts = counts\n",
    "        self.values = values\n",
    "        return\n",
    "  \n",
    "    def initialize(self, n_arms):\n",
    "        self.counts = [0 for col in range(n_arms)]\n",
    "        self.values = [0.0 for col in range(n_arms)]\n",
    "        return\n",
    "  \n",
    "    def select_arm(self):\n",
    "        t = sum(self.counts) + 1\n",
    "        temperature = 1 / math.log(t + 0.0000001) \n",
    "        z = sum([math.exp(v / temperature) for v in self.values])\n",
    "        probs = [math.exp(v / temperature) / z for v in self.values]\n",
    "        return categorical_draw(probs)\n",
    "\n",
    "    def update(self, chosen_arm, reward):\n",
    "        self.counts[chosen_arm] = self.counts[chosen_arm] + 1\n",
    "        n = self.counts[chosen_arm]\n",
    "        value = self.values[chosen_arm]\n",
    "        new_value = ((n - 1) / float(n)) * value + (1 / float(n)) * reward\n",
    "        self.values[chosen_arm] = new_value\n",
    "        return"
   ]
  },
  {
   "cell_type": "markdown",
   "id": "4626ef3a",
   "metadata": {},
   "source": [
    "## UCB1"
   ]
  },
  {
   "cell_type": "code",
   "execution_count": null,
   "id": "df822c38",
   "metadata": {},
   "outputs": [],
   "source": [
    "class UCB1():\n",
    "    def __init__(self, counts, values): \n",
    "        self.counts = counts\n",
    "        self.values = values\n",
    "        return\n",
    "  \n",
    "    def initialize(self, n_arms):\n",
    "        self.counts = [0 for col in range(n_arms)]\n",
    "        self.values = [0.0 for col in range(n_arms)]\n",
    "        return\n",
    "\n",
    "    def select_arm(self):\n",
    "        n_arms = len(self.counts)\n",
    "        for arm in range(n_arms):\n",
    "            if self.counts[arm] == 0: # pull all arms at least once\n",
    "                return arm\n",
    "\n",
    "        ucb_values = [0.0 for arm in range(n_arms)]\n",
    "        total_counts = sum(self.counts)\n",
    "        for arm in range(n_arms):\n",
    "            bonus = math.sqrt((2 * math.log(total_counts)) / float(self.counts[arm]))\n",
    "            ucb_values[arm] = self.values[arm] + bonus\n",
    "        return ind_max(ucb_values)\n",
    "  \n",
    "    def update(self, chosen_arm, reward):\n",
    "        self.counts[chosen_arm] = self.counts[chosen_arm] + 1\n",
    "        n = self.counts[chosen_arm]\n",
    "        value = self.values[chosen_arm]\n",
    "        new_value = ((n - 1) / float(n)) * value + (1 / float(n)) * reward\n",
    "        self.values[chosen_arm] = new_value\n",
    "        return"
   ]
  },
  {
   "cell_type": "markdown",
   "id": "fe6b3348",
   "metadata": {},
   "source": [
    "## UCB-Tuned"
   ]
  },
  {
   "cell_type": "code",
   "execution_count": null,
   "id": "cee8cbd5",
   "metadata": {},
   "outputs": [],
   "source": [
    "class UCBTuned():\n",
    "    def __init__(self, counts, values, reward_squared): \n",
    "        self.counts = counts\n",
    "        self.values = values\n",
    "        self.reward_squared = reward_squared\n",
    "        return\n",
    "  \n",
    "    def initialize(self, n_arms):\n",
    "        self.counts = [0 for col in range(n_arms)]\n",
    "        self.values = [0.0 for col in range(n_arms)]\n",
    "        self.reward_squared = [0.0 for col in range(n_arms)]\n",
    "        return\n",
    "  \n",
    "\n",
    "    def select_arm(self):\n",
    "        n_arms = len(self.counts)\n",
    "        for arm in range(n_arms):\n",
    "            if self.counts[arm] == 0: \n",
    "                return arm\n",
    "\n",
    "        ucb_values = [0.0 for arm in range(n_arms)]\n",
    "        total_counts = sum(self.counts)\n",
    "        \n",
    "        for arm in range(n_arms):\n",
    "            variance_bound = self.reward_squared[arm] / float(self.counts[arm]) - float(self.values[arm]) ** 2\n",
    "            variance_bound += math.sqrt((2 *math.log(total_counts)) / float(self.counts[arm]))        \n",
    "            bonus = math.sqrt(np.min([variance_bound, 1 / 4]) *(math.log(total_counts)) / float(self.counts[arm]))\n",
    "            ucb_values[arm] = self.values[arm] + bonus\n",
    "        return ind_max(ucb_values)\n",
    "  \n",
    "    def update(self, chosen_arm, reward):\n",
    "        self.counts[chosen_arm] = self.counts[chosen_arm] + 1\n",
    "        n = self.counts[chosen_arm]\n",
    "        self.reward_squared[chosen_arm] += reward**2 \n",
    "        value = self.values[chosen_arm]\n",
    "        new_value = ((n - 1) / float(n)) * value + (1 / float(n)) * reward\n",
    "        self.values[chosen_arm] = new_value\n",
    "        return"
   ]
  },
  {
   "cell_type": "markdown",
   "id": "6f9510cb",
   "metadata": {},
   "source": [
    "## Bayes UCB"
   ]
  },
  {
   "cell_type": "code",
   "execution_count": null,
   "id": "8dfbd7b6",
   "metadata": {},
   "outputs": [],
   "source": [
    "from scipy.stats import beta\n",
    "class BayesUCB():\n",
    "    def __init__(self, S, F):\n",
    "        self.S = S # number successes\n",
    "        self.F = F # number failures \n",
    "        return\n",
    "  \n",
    "    def initialize(self, n_arms):\n",
    "        self.S = [1 for col in range(n_arms)] \n",
    "        self.F = [1 for col in range(n_arms)] \n",
    "        return\n",
    "\n",
    "    def select_arm(self):\n",
    "        n_arms = len(self.S)\n",
    "        bound = np.zeros(n_arms) \n",
    "        for i in range(n_arms):\n",
    "            bound[i] = self.S[i] / (self.S[i] + self.F[i]) + (beta.std(self.S[i],self.F[i]))\n",
    "        return ind_max(bound)\n",
    "  \n",
    "    def update(self, chosen_arm, reward):\n",
    "        if reward == 1:\n",
    "            self.S[chosen_arm] += 1\n",
    "        else:\n",
    "            self.F[chosen_arm] += 1\n",
    "        return"
   ]
  },
  {
   "cell_type": "markdown",
   "id": "90c38bbf",
   "metadata": {},
   "source": [
    "## Thompson Sampling"
   ]
  },
  {
   "cell_type": "code",
   "execution_count": null,
   "id": "b455f51f",
   "metadata": {},
   "outputs": [],
   "source": [
    "class Thompson():\n",
    "    def __init__(self, S, F): \n",
    "        self.S = S \n",
    "        self.F = F\n",
    "        return\n",
    "  \n",
    "    def initialize(self, n_arms):\n",
    "        self.S = [1 for col in range(n_arms)]  \n",
    "        self.F = [1 for col in range(n_arms)] \n",
    "        return\n",
    "\n",
    "    def select_arm(self):\n",
    "        n_arms = len(self.S)\n",
    "        probs = np.zeros(n_arms)  # sampling prob win, each machine\n",
    "        for i in range(n_arms):\n",
    "            probs[i] = np.random.beta(self.S[i], self.F[i], size=1)[0] \n",
    "        return ind_max(probs)\n",
    "  \n",
    "    def update(self, chosen_arm, reward):\n",
    "        if reward == 1:\n",
    "            self.S[chosen_arm] += 1\n",
    "        else:\n",
    "            self.F[chosen_arm] += 1\n",
    "        return"
   ]
  }
 ],
 "metadata": {
  "kernelspec": {
   "display_name": "Python 3",
   "language": "python",
   "name": "python3"
  },
  "language_info": {
   "codemirror_mode": {
    "name": "ipython",
    "version": 3
   },
   "file_extension": ".py",
   "mimetype": "text/x-python",
   "name": "python",
   "nbconvert_exporter": "python",
   "pygments_lexer": "ipython3",
   "version": "3.9.13"
  }
 },
 "nbformat": 4,
 "nbformat_minor": 5
}
