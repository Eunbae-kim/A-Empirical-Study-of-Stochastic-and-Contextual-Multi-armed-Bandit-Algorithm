{
 "cells": [
  {
   "cell_type": "code",
   "execution_count": null,
   "id": "05034f57",
   "metadata": {},
   "outputs": [],
   "source": [
    "import tensorflow as tf\n",
    "import numpy as np\n",
    "import pandas as pd\n",
    "import matplotlib.pyplot as plt\n",
    "import seaborn as sns\n",
    "import random\n",
    "import math\n",
    "from tqdm import tqdm\n",
    "random.seed(0)\n",
    "\n",
    "plt.style.use('fivethirtyeight')\n",
    "import warnings\n",
    "warnings.filterwarnings('ignore')\n",
    "%matplotlib inline"
   ]
  },
  {
   "cell_type": "markdown",
   "id": "a2e4e020",
   "metadata": {},
   "source": [
    "You can get the data from MovieLens 100K Data here: \n",
    "https://grouplens.org/datasets/movielens/"
   ]
  },
  {
   "cell_type": "markdown",
   "id": "42879395",
   "metadata": {},
   "source": [
    "# user context extraction"
   ]
  },
  {
   "cell_type": "code",
   "execution_count": null,
   "id": "703e499b",
   "metadata": {},
   "outputs": [],
   "source": [
    "user = pd.read_csv(\"ml-100k/u.user\", header = None, sep = \"|\")\n",
    "user.columns = [\"user_id\",\"age\",\"gender\",\"occupation\",\"zipcode\"]\n",
    "user = user.drop([\"zipcode\"], axis = 1)"
   ]
  },
  {
   "cell_type": "code",
   "execution_count": null,
   "id": "f576b541",
   "metadata": {},
   "outputs": [],
   "source": [
    "bins = [0, 20,30, 40, 50, np.inf]\n",
    "names = ['<19', '20-29','30-39','40-49', '50+']\n",
    "\n",
    "user['agegroup'] = pd.cut(user['age'], bins, labels=names)\n",
    "user = user.drop([\"age\"], axis = 1)\n",
    "user[['user_id','gender','agegroup']].head()"
   ]
  },
  {
   "cell_type": "code",
   "execution_count": null,
   "id": "24d9902c",
   "metadata": {},
   "outputs": [],
   "source": [
    "user.groupby('agegroup').sum()"
   ]
  },
  {
   "cell_type": "code",
   "execution_count": null,
   "id": "cb3d6c9a",
   "metadata": {},
   "outputs": [],
   "source": [
    "user_features = pd.get_dummies(user[['gender','agegroup']],drop_first=True)\n",
    "user_features['user_id'] = user['user_id']\n",
    "user_features['user_id'].shape"
   ]
  },
  {
   "cell_type": "markdown",
   "id": "ee4e696d",
   "metadata": {},
   "source": [
    "# movie context extraction"
   ]
  },
  {
   "cell_type": "code",
   "execution_count": null,
   "id": "517ce951",
   "metadata": {},
   "outputs": [],
   "source": [
    "movie = pd.read_csv(\"ml-100k/u.item\", header = None, sep = \"|\", encoding='latin-1')\n",
    "movie.columns = [\"movie_id\", \"movie_title\", \"release_date\", \"video_release_date\", \"IMDb_URL\", \n",
    "                  \"unknown\", \"Action\", \"Adventure\",\"Animation\",\"Children's\",\"Comedy\",\"Crime\",\"Documentary\",\"Drama\",\"Fantasy\",\n",
    "                  \"Film-Noir\",\"Horror\", \"Musical\", \"Mystery\",\"Romance\",\"Sci-Fi\",\"Thriller\", \"War\",\"Western\"]\n",
    "movie"
   ]
  },
  {
   "cell_type": "code",
   "execution_count": null,
   "id": "d411dde2",
   "metadata": {},
   "outputs": [],
   "source": [
    "movie_features = movie.drop([\"movie_title\",\"release_date\", \"video_release_date\", \"IMDb_URL\",\"unknown\"],axis = 1)"
   ]
  },
  {
   "cell_type": "code",
   "execution_count": null,
   "id": "981781d9",
   "metadata": {},
   "outputs": [],
   "source": [
    "movie_features.sum() > (1682 * 0.1)"
   ]
  },
  {
   "cell_type": "code",
   "execution_count": null,
   "id": "23f96069",
   "metadata": {},
   "outputs": [],
   "source": [
    "movie_features = movie_features[['movie_id','Comedy','Drama','Romance','Thriller']]\n",
    "movie_features"
   ]
  },
  {
   "cell_type": "markdown",
   "id": "ee3a9b92",
   "metadata": {},
   "source": [
    "# Rating"
   ]
  },
  {
   "cell_type": "code",
   "execution_count": null,
   "id": "5a67783a",
   "metadata": {},
   "outputs": [],
   "source": [
    "data  = pd.read_csv(\"ml-100k/u.data\", sep =\"\\t\", header=None, names = [\"user_id\", \"movie_id\",\"rating\", \"timestamp\"])\n",
    "data  = data.drop([\"timestamp\"], axis = 1)\n",
    "data "
   ]
  },
  {
   "cell_type": "code",
   "execution_count": null,
   "id": "e0b8505c",
   "metadata": {},
   "outputs": [],
   "source": [
    "k=2\n",
    "data.groupby(\"movie_id\").count().sort_values(\"user_id\", ascending = False).head(k)[\"rating\"].sum()"
   ]
  },
  {
   "cell_type": "code",
   "execution_count": null,
   "id": "c7d5aedd",
   "metadata": {},
   "outputs": [],
   "source": [
    "# Obtain top k movies index\n",
    "top_movies_index = data.groupby(\"movie_id\").count().sort_values(\"user_id\", ascending = False).head(k).reset_index()[\"movie_id\"]\n",
    "top_movies_index"
   ]
  },
  {
   "cell_type": "code",
   "execution_count": null,
   "id": "4f7b47b6",
   "metadata": {},
   "outputs": [],
   "source": [
    "top_movies_features = movie_features[movie_features.movie_id.isin(top_movies_index)]\n",
    "top_movies_features.to_numpy().shape"
   ]
  },
  {
   "cell_type": "code",
   "execution_count": null,
   "id": "33ebfecc",
   "metadata": {},
   "outputs": [],
   "source": [
    "top_movies_features"
   ]
  },
  {
   "cell_type": "markdown",
   "id": "e1391a4c",
   "metadata": {},
   "source": [
    "# Making top K movie dataset"
   ]
  },
  {
   "cell_type": "code",
   "execution_count": null,
   "id": "3696d8ca",
   "metadata": {},
   "outputs": [],
   "source": [
    "reward_history = data[data[\"movie_id\"].isin(top_movies_index)]\n",
    "print(reward_history.shape)\n",
    "reward_history.head()"
   ]
  },
  {
   "cell_type": "code",
   "execution_count": null,
   "id": "15a33067",
   "metadata": {},
   "outputs": [],
   "source": [
    "sns.countplot(x=reward_history[\"rating\"])\n",
    "plt.show()"
   ]
  },
  {
   "cell_type": "code",
   "execution_count": null,
   "id": "62e9717f",
   "metadata": {},
   "outputs": [],
   "source": [
    "reward_history[\"reward\"] = np.where(reward_history[\"rating\"] <5,0,1)\n",
    "\n",
    "reward_history = reward_history.reset_index(drop = True)"
   ]
  },
  {
   "cell_type": "code",
   "execution_count": null,
   "id": "38f0429f",
   "metadata": {},
   "outputs": [],
   "source": [
    "f,ax=plt.subplots(1,2,figsize=(18,8))\n",
    "filtered_data_original[['movie_id','reward']].groupby(['movie_id']).mean().plot.bar(ax=ax[0])\n",
    "ax[0].set_title('reward vs movie_id')\n",
    "sns.countplot(x=filtered_data_original[\"movie_id\"],hue=filtered_data_original[\"reward\"],ax=ax[1])\n",
    "ax[1].set_title('movie_id:reward')\n",
    "plt.show()"
   ]
  },
  {
   "cell_type": "code",
   "execution_count": null,
   "id": "372aed31",
   "metadata": {},
   "outputs": [],
   "source": [
    "reward_history[['movie_id','reward']].groupby(['movie_id']).mean().reset_index()"
   ]
  },
  {
   "cell_type": "code",
   "execution_count": null,
   "id": "4f4e8936",
   "metadata": {},
   "outputs": [],
   "source": [
    "# save the output for use in other notebooks\n",
    "reward_history.to_csv('reward_history_top10.csv')"
   ]
  }
 ],
 "metadata": {
  "kernelspec": {
   "display_name": "Python 3",
   "language": "python",
   "name": "python3"
  },
  "language_info": {
   "codemirror_mode": {
    "name": "ipython",
    "version": 3
   },
   "file_extension": ".py",
   "mimetype": "text/x-python",
   "name": "python",
   "nbconvert_exporter": "python",
   "pygments_lexer": "ipython3",
   "version": "3.9.13"
  }
 },
 "nbformat": 4,
 "nbformat_minor": 5
}
