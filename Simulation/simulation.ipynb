{
 "cells": [
  {
   "cell_type": "markdown",
   "id": "7da2b42e",
   "metadata": {},
   "source": [
    "# Simulation"
   ]
  },
  {
   "cell_type": "code",
   "execution_count": null,
   "id": "0aa5b696",
   "metadata": {},
   "outputs": [],
   "source": [
    "import numpy as np\n",
    "import random\n",
    "import pandas as pd\n",
    "import matplotlib.pyplot as plt\n",
    "import seaborn as sns\n",
    "import random\n",
    "import math\n",
    "\n",
    "plt.style.use('fivethirtyeight')\n",
    "import warnings\n",
    "warnings.filterwarnings('ignore')\n",
    "%matplotlib inline\n",
    "\n",
    "random_seed = 0"
   ]
  },
  {
   "cell_type": "code",
   "execution_count": null,
   "id": "689782ba",
   "metadata": {},
   "outputs": [],
   "source": [
    "def ind_max(temp):\n",
    "    m = max(temp)\n",
    "    list_m = list(filter(lambda x: temp[x] == m, range(len(temp))))\n",
    "    return random.choice(list_m)"
   ]
  },
  {
   "cell_type": "code",
   "execution_count": null,
   "id": "72d04343",
   "metadata": {},
   "outputs": [],
   "source": [
    "def test_algorithm(algo,num_sims,T):\n",
    "    chosen_arms = [0.0 for i in range(num_sims * T)] \n",
    "    rewards = [0.0 for i in range(num_sims * T)] \n",
    "    regrets = [0.0 for i in range(num_sims * T)]\n",
    "    cumulative_rewards = [0.0 for i in range(num_sims * T)] \n",
    "    cumulative_regrets = [0.0 for i in range(num_sims * T)] \n",
    "    \n",
    "    best_find = [0.0 for i in range(num_sims * T)] # if find the best -> 1 else -> 0\n",
    "    cumulative_best_find = [0.0 for i in range(num_sims * T)]\n",
    "    \n",
    "    sim_nums = [0.0 for i in range(num_sims * T)] \n",
    "    times = [0.0 for i in range(num_sims * T)] \n",
    "    \n",
    "    for sim in range(num_sims):\n",
    "        k = 2\n",
    "        p_list = [random.random() for i in range(k)]\n",
    "        arms = [BernoulliArm(p) for p in p_list]\n",
    "        best_arm = ind_max([arm.p for arm in arms]) # Index of the best arm.\n",
    "        best_arm_reward = max([arm.p for arm in arms])\n",
    "\n",
    "        n_arms = len(arms) # k\n",
    "        sim = sim + 1 \n",
    "        algo.initialize(n_arms)\n",
    "        \n",
    "        for t in range(T): # pull arm\n",
    "            t = t + 1\n",
    "            index = (sim - 1) * T + t - 1\n",
    "            sim_nums[index] = sim\n",
    "            times[index] = t \n",
    "      \n",
    "            chosen_arm = algo.select_arm()\n",
    "            chosen_arms[index] = chosen_arm\n",
    "            \n",
    "            if int(chosen_arm) == int(best_arm):\n",
    "                best_find[index] = 1  \n",
    "                if t == 1:\n",
    "                    cumulative_best_find[index] = 1\n",
    "                else :\n",
    "                    cumulative_best_find[index] = cumulative_best_find[index - 1] + best_find[index]\n",
    "            else:\n",
    "                best_find[index] = 0\n",
    "                if t == 1:\n",
    "                    cumulative_best_find[index] = 0\n",
    "                else :\n",
    "                    cumulative_best_find[index] = cumulative_best_find[index - 1] + best_find[index]\n",
    "\n",
    "            reward = arms[chosen_arms[index]].draw()\n",
    "            regret = best_arm_reward - reward\n",
    "            rewards[index] = reward\n",
    "            regrets[index] = regret\n",
    "      \n",
    "            if t == 1:\n",
    "                cumulative_rewards[index] = reward\n",
    "                cumulative_regrets[index] = regret\n",
    "            else:\n",
    "                cumulative_rewards[index] = cumulative_rewards[index - 1] + reward\n",
    "                cumulative_regrets[index] = cumulative_regrets[index - 1] + regret\n",
    "      \n",
    "            algo.update(chosen_arm, reward)\n",
    "  \n",
    "    temp_result =  [sim_nums, times, chosen_arms, rewards, cumulative_rewards, regrets,cumulative_regrets,best_find,cumulative_best_find]\n",
    "    result = pd.DataFrame(temp_result).transpose()\n",
    "    result.columns = [\"Sim\", \"T\", \"ChosenArm\", \"Reward\", \"CumulativeReward\", \"Regret\", \"CumulativeRegret\",\"best_find\",\"cumulative_best_find\"]\n",
    "\n",
    "    return result"
   ]
  }
 ],
 "metadata": {
  "kernelspec": {
   "display_name": "Python 3",
   "language": "python",
   "name": "python3"
  },
  "language_info": {
   "codemirror_mode": {
    "name": "ipython",
    "version": 3
   },
   "file_extension": ".py",
   "mimetype": "text/x-python",
   "name": "python",
   "nbconvert_exporter": "python",
   "pygments_lexer": "ipython3",
   "version": "3.9.13"
  }
 },
 "nbformat": 4,
 "nbformat_minor": 5
}
